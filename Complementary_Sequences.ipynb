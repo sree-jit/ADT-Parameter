{
  "nbformat": 4,
  "nbformat_minor": 0,
  "metadata": {
    "colab": {
      "name": "Complementary Sequences.ipynb",
      "provenance": [],
      "authorship_tag": "ABX9TyMRRdBtBaMVWZMJ59gBr4/y",
      "include_colab_link": true
    },
    "kernelspec": {
      "name": "python3",
      "display_name": "Python 3"
    },
    "language_info": {
      "name": "python"
    }
  },
  "cells": [
    {
      "cell_type": "markdown",
      "metadata": {
        "id": "view-in-github",
        "colab_type": "text"
      },
      "source": [
        "<a href=\"https://colab.research.google.com/github/sree-jit/ADT-Parameter/blob/main/Complementary_Sequences.ipynb\" target=\"_parent\"><img src=\"https://colab.research.google.com/assets/colab-badge.svg\" alt=\"Open In Colab\"/></a>"
      ]
    },
    {
      "cell_type": "code",
      "metadata": {
        "id": "Rst_sGubB0fH"
      },
      "source": [
        "# obtain the sequence\n",
        "DNA=\"ATGCACTAGTATGACGATT\"\n"
      ],
      "execution_count": 1,
      "outputs": []
    },
    {
      "cell_type": "code",
      "metadata": {
        "colab": {
          "base_uri": "https://localhost:8080/"
        },
        "id": "-1XEoPsZCXMk",
        "outputId": "e43960cd-de31-44ec-e3fb-00b8b6191c9b"
      },
      "source": [
        "print(DNA)"
      ],
      "execution_count": 2,
      "outputs": [
        {
          "output_type": "stream",
          "name": "stdout",
          "text": [
            "ATGCACTAGTATGACGATT\n"
          ]
        }
      ]
    },
    {
      "cell_type": "code",
      "metadata": {
        "colab": {
          "base_uri": "https://localhost:8080/"
        },
        "id": "9A8y4x7fCaP-",
        "outputId": "341a8225-9006-4aff-a5b9-9a8a875b7eb6"
      },
      "source": [
        "#length of the sequence\n",
        "len(DNA)"
      ],
      "execution_count": 3,
      "outputs": [
        {
          "output_type": "execute_result",
          "data": {
            "text/plain": [
              "19"
            ]
          },
          "metadata": {},
          "execution_count": 3
        }
      ]
    },
    {
      "cell_type": "code",
      "metadata": {
        "id": "HdX_E5J7CaWf"
      },
      "source": [
        "base_compliments={'A':'T','T':'A','C':'G','G':'C'}\n"
      ],
      "execution_count": 5,
      "outputs": []
    },
    {
      "cell_type": "code",
      "metadata": {
        "colab": {
          "base_uri": "https://localhost:8080/"
        },
        "id": "YJLLolysDv_B",
        "outputId": "4a019634-67b7-48d4-ae3d-f014852dd1a1"
      },
      "source": [
        "print(base_compliments)"
      ],
      "execution_count": 6,
      "outputs": [
        {
          "output_type": "stream",
          "name": "stdout",
          "text": [
            "{'A': 'T', 'T': 'A', 'C': 'G', 'G': 'C'}\n"
          ]
        }
      ]
    },
    {
      "cell_type": "code",
      "metadata": {
        "colab": {
          "base_uri": "https://localhost:8080/",
          "height": 35
        },
        "id": "7ogtPQ87D4YG",
        "outputId": "d94dfb0a-3a05-4774-900a-90afe544d59f"
      },
      "source": [
        "#what is the complement of A\n",
        "base_compliments['A']"
      ],
      "execution_count": 7,
      "outputs": [
        {
          "output_type": "execute_result",
          "data": {
            "application/vnd.google.colaboratory.intrinsic+json": {
              "type": "string"
            },
            "text/plain": [
              "'T'"
            ]
          },
          "metadata": {},
          "execution_count": 7
        }
      ]
    },
    {
      "cell_type": "code",
      "metadata": {
        "colab": {
          "base_uri": "https://localhost:8080/",
          "height": 35
        },
        "id": "Bc76d_HHEXLg",
        "outputId": "2889f4de-8ed0-43e3-acb4-d0e4c9f314a9"
      },
      "source": [
        "base_compliments['C']"
      ],
      "execution_count": 8,
      "outputs": [
        {
          "output_type": "execute_result",
          "data": {
            "application/vnd.google.colaboratory.intrinsic+json": {
              "type": "string"
            },
            "text/plain": [
              "'G'"
            ]
          },
          "metadata": {},
          "execution_count": 8
        }
      ]
    },
    {
      "cell_type": "code",
      "metadata": {
        "id": "GFijSyv7Egf5"
      },
      "source": [
        "sequence_complement=''\n",
        "\n",
        "for base in DNA:\n",
        "    base_compliment=base_compliments[base]\n",
        "    sequence_complement+=base_compliment\n",
        "    "
      ],
      "execution_count": 9,
      "outputs": []
    },
    {
      "cell_type": "code",
      "metadata": {
        "colab": {
          "base_uri": "https://localhost:8080/"
        },
        "id": "ft2R3dCtF8bg",
        "outputId": "77cd9a93-59cd-485a-8b10-8880c53e61b5"
      },
      "source": [
        "print(sequence_complement)"
      ],
      "execution_count": 10,
      "outputs": [
        {
          "output_type": "stream",
          "name": "stdout",
          "text": [
            "TACGTGATCATACTGCTAA\n"
          ]
        }
      ]
    },
    {
      "cell_type": "code",
      "metadata": {
        "colab": {
          "base_uri": "https://localhost:8080/"
        },
        "id": "VYNxMYh5GBC4",
        "outputId": "efd9de56-faba-4be5-8db9-a13a620e27e9"
      },
      "source": [
        "print('original sequence:  ',DNA)\n",
        "print('sequence complement:',sequence_complement)"
      ],
      "execution_count": 13,
      "outputs": [
        {
          "output_type": "stream",
          "name": "stdout",
          "text": [
            "original sequence:   ATGCACTAGTATGACGATT\n",
            "sequence complement: TACGTGATCATACTGCTAA\n"
          ]
        }
      ]
    },
    {
      "cell_type": "code",
      "metadata": {
        "id": "ocbvvn2kHiOH"
      },
      "source": [
        "# Approach 2\n",
        "\n",
        "sequence_complement2=[base_compliments[base] for base in DNA]\n",
        "\n",
        "\n"
      ],
      "execution_count": 14,
      "outputs": []
    },
    {
      "cell_type": "code",
      "metadata": {
        "colab": {
          "base_uri": "https://localhost:8080/"
        },
        "id": "ybPmTYLiH3JR",
        "outputId": "45258bb7-f0bf-4bcf-eaab-0d1df4c35565"
      },
      "source": [
        "print(sequence_complement2)"
      ],
      "execution_count": 15,
      "outputs": [
        {
          "output_type": "stream",
          "name": "stdout",
          "text": [
            "['T', 'A', 'C', 'G', 'T', 'G', 'A', 'T', 'C', 'A', 'T', 'A', 'C', 'T', 'G', 'C', 'T', 'A', 'A']\n"
          ]
        }
      ]
    },
    {
      "cell_type": "code",
      "metadata": {
        "id": "sr2Ol9FqH8op"
      },
      "source": [
        "# convert the list to a string\n",
        "sequence_complement2=''.join(sequence_complement2)\n"
      ],
      "execution_count": 16,
      "outputs": []
    },
    {
      "cell_type": "code",
      "metadata": {
        "colab": {
          "base_uri": "https://localhost:8080/"
        },
        "id": "YM70Ik5TIfUg",
        "outputId": "e3897812-7e1c-4466-840e-7785f486bbdb"
      },
      "source": [
        "print(sequence_complement2)"
      ],
      "execution_count": 17,
      "outputs": [
        {
          "output_type": "stream",
          "name": "stdout",
          "text": [
            "TACGTGATCATACTGCTAA\n"
          ]
        }
      ]
    },
    {
      "cell_type": "code",
      "metadata": {
        "colab": {
          "base_uri": "https://localhost:8080/"
        },
        "id": "Bpg6SDjvIjoH",
        "outputId": "6da06298-f56a-4d75-b982-07a6a2d2bb09"
      },
      "source": [
        "print(sequence_complement)\n",
        "print(sequence_complement2)\n"
      ],
      "execution_count": 18,
      "outputs": [
        {
          "output_type": "stream",
          "name": "stdout",
          "text": [
            "TACGTGATCATACTGCTAA\n",
            "TACGTGATCATACTGCTAA\n"
          ]
        }
      ]
    },
    {
      "cell_type": "code",
      "metadata": {
        "colab": {
          "base_uri": "https://localhost:8080/"
        },
        "id": "5UKtuq3MI0H5",
        "outputId": "9fe8b9ef-b56c-403c-af9c-21cd04f7acbd"
      },
      "source": [
        "print(DNA)\n",
        "print(sequence_complement)\n",
        "print(sequence_complement2)"
      ],
      "execution_count": 19,
      "outputs": [
        {
          "output_type": "stream",
          "name": "stdout",
          "text": [
            "ATGCACTAGTATGACGATT\n",
            "TACGTGATCATACTGCTAA\n",
            "TACGTGATCATACTGCTAA\n"
          ]
        }
      ]
    },
    {
      "cell_type": "code",
      "metadata": {
        "id": "oqTe_2rXJZBj"
      },
      "source": [
        "#Approach: Combine Functions & Loops\n",
        "\n",
        "DNASEQUENCES=['ATCGA', 'TTAGC', 'ACCTAG']\n"
      ],
      "execution_count": 20,
      "outputs": []
    },
    {
      "cell_type": "code",
      "metadata": {
        "colab": {
          "base_uri": "https://localhost:8080/"
        },
        "id": "NLZjpY4TOHPU",
        "outputId": "77ac8b62-875f-4632-e10e-9a04833a6c5a"
      },
      "source": [
        "len(DNASEQUENCES)"
      ],
      "execution_count": 21,
      "outputs": [
        {
          "output_type": "execute_result",
          "data": {
            "text/plain": [
              "3"
            ]
          },
          "metadata": {},
          "execution_count": 21
        }
      ]
    },
    {
      "cell_type": "code",
      "metadata": {
        "id": "6ObfAjb6ONLh"
      },
      "source": [
        "#create a function that will find the complement of a nucleotide sequence\n",
        "#then reuse that function for all your sequences\n",
        "\n",
        "def sequence_complement_finder(sequence):\n",
        "    base_compliments={'A':'T','T':'A','C':'G','G':'C'}\n",
        "    sequence_complement=[base_compliments[base] for base in sequence]\n",
        "    sequence_complement='' .join(sequence_complement)\n",
        "    return sequence_complement"
      ],
      "execution_count": 22,
      "outputs": []
    },
    {
      "cell_type": "code",
      "metadata": {
        "colab": {
          "base_uri": "https://localhost:8080/"
        },
        "id": "aSi8qdRHQovG",
        "outputId": "17f305f9-c45e-4dcc-c8ce-7820b3330357"
      },
      "source": [
        "# use \"for\" loop to iterate the list of sequences\n",
        "\n",
        "for sequence in DNASEQUENCES:\n",
        "    sequence_complement=sequence_complement_finder(sequence)\n",
        "    print('original sequence:  ',sequence)\n",
        "    print('sequence complement:',sequence_complement)\n"
      ],
      "execution_count": 23,
      "outputs": [
        {
          "output_type": "stream",
          "name": "stdout",
          "text": [
            "original sequence:   ATCGA\n",
            "sequence complement: TAGCT\n",
            "original sequence:   TTAGC\n",
            "sequence complement: AATCG\n",
            "original sequence:   ACCTAG\n",
            "sequence complement: TGGATC\n"
          ]
        }
      ]
    },
    {
      "cell_type": "code",
      "metadata": {
        "id": "36SChcJOUI1M"
      },
      "source": [
        "complement_sequences=[]\n",
        "for sequence in DNASEQUENCES:\n",
        "    sequence_complement=sequence_complement_finder(sequence)\n",
        "    complement_sequences.append(sequence_complement)"
      ],
      "execution_count": 24,
      "outputs": []
    },
    {
      "cell_type": "code",
      "metadata": {
        "colab": {
          "base_uri": "https://localhost:8080/"
        },
        "id": "3eoudCCNVO3q",
        "outputId": "b7b65e9a-85a6-4b24-f3bf-48fe7f4fb8cd"
      },
      "source": [
        "print(complement_sequences)"
      ],
      "execution_count": 25,
      "outputs": [
        {
          "output_type": "stream",
          "name": "stdout",
          "text": [
            "['TAGCT', 'AATCG', 'TGGATC']\n"
          ]
        }
      ]
    },
    {
      "cell_type": "code",
      "metadata": {
        "colab": {
          "base_uri": "https://localhost:8080/"
        },
        "id": "V9nN_J_4VtQL",
        "outputId": "f73876f2-6f48-4e4b-f69c-0b5507317713"
      },
      "source": [
        "print(DNASEQUENCES)\n",
        "print(complement_sequences)"
      ],
      "execution_count": 26,
      "outputs": [
        {
          "output_type": "stream",
          "name": "stdout",
          "text": [
            "['ATCGA', 'TTAGC', 'ACCTAG']\n",
            "['TAGCT', 'AATCG', 'TGGATC']\n"
          ]
        }
      ]
    },
    {
      "cell_type": "code",
      "metadata": {
        "colab": {
          "base_uri": "https://localhost:8080/"
        },
        "id": "DlBWmskmWUGE",
        "outputId": "20f464ec-06e3-4864-af4e-b2e0944509e4"
      },
      "source": [
        "print('original:  ',DNASEQUENCES)\n",
        "print('complement:',complement_sequences)"
      ],
      "execution_count": 27,
      "outputs": [
        {
          "output_type": "stream",
          "name": "stdout",
          "text": [
            "original:   ['ATCGA', 'TTAGC', 'ACCTAG']\n",
            "complement: ['TAGCT', 'AATCG', 'TGGATC']\n"
          ]
        }
      ]
    }
  ]
}