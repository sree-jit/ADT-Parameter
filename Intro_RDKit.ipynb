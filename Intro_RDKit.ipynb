{
  "nbformat": 4,
  "nbformat_minor": 0,
  "metadata": {
    "colab": {
      "name": "Intro RDKit.ipynb",
      "provenance": [],
      "collapsed_sections": [],
      "include_colab_link": true
    },
    "kernelspec": {
      "name": "python3",
      "display_name": "Python 3"
    }
  },
  "cells": [
    {
      "cell_type": "markdown",
      "metadata": {
        "id": "view-in-github",
        "colab_type": "text"
      },
      "source": [
        "<a href=\"https://colab.research.google.com/github/sree-jit/ADT-Parameter/blob/main/Intro_RDKit.ipynb\" target=\"_parent\"><img src=\"https://colab.research.google.com/assets/colab-badge.svg\" alt=\"Open In Colab\"/></a>"
      ]
    },
    {
      "cell_type": "code",
      "metadata": {
        "id": "iNWdZyjEqoyO"
      },
      "source": [
        "# Install RDKit.\n",
        "%%capture\n",
        "!pip install rdkit-pypi"
      ],
      "execution_count": null,
      "outputs": []
    },
    {
      "cell_type": "code",
      "metadata": {
        "id": "RXg_4dQFwKPg"
      },
      "source": [
        "from rdkit import Chem\n",
        "from rdkit.Chem import Draw\n",
        "from rdkit.Chem.Draw import IPythonConsole\n",
        "from rdkit.Chem import Descriptors\n",
        "from rdkit.Chem import AllChem\n",
        "from rdkit import DataStructs\n",
        "import numpy as np"
      ],
      "execution_count": null,
      "outputs": []
    },
    {
      "cell_type": "code",
      "metadata": {
        "id": "5TPZ5Rm-tO4h",
        "colab": {
          "base_uri": "https://localhost:8080/",
          "height": 167
        },
        "outputId": "0432e6a1-2474-4bda-b7a4-97f0e92cb145"
      },
      "source": [
        "mol = Chem.MolFromSmiles('CCCC')\n",
        "mol"
      ],
      "execution_count": null,
      "outputs": [
        {
          "output_type": "execute_result",
          "data": {
            "image/png": "[encoded data removed]",
            "text/plain": [
              "<rdkit.Chem.rdchem.Mol at 0x7f2079ecb350>"
            ]
          },
          "metadata": {},
          "execution_count": 3
        }
      ]
    },
    {
      "cell_type": "code",
      "metadata": {
        "id": "040xbqaOt7cI",
        "colab": {
          "base_uri": "https://localhost:8080/",
          "height": 35
        },
        "outputId": "3af2bfe5-b830-4c5b-82e2-49a1120e821c"
      },
      "source": [
        "smiles = Chem.MolToSmiles(mol)\n",
        "smiles"
      ],
      "execution_count": null,
      "outputs": [
        {
          "output_type": "execute_result",
          "data": {
            "application/vnd.google.colaboratory.intrinsic+json": {
              "type": "string"
            },
            "text/plain": [
              "'CCCC'"
            ]
          },
          "metadata": {},
          "execution_count": 4
        }
      ]
    },
    {
      "cell_type": "code",
      "metadata": {
        "id": "YVCSmxCMuaY4",
        "colab": {
          "base_uri": "https://localhost:8080/"
        },
        "outputId": "d5c93360-2965-49fb-c74b-84c136458027"
      },
      "source": [
        "mw = Descriptors.MolWt(mol)\n",
        "mw"
      ],
      "execution_count": null,
      "outputs": [
        {
          "output_type": "execute_result",
          "data": {
            "text/plain": [
              "58.123999999999995"
            ]
          },
          "metadata": {},
          "execution_count": 5
        }
      ]
    },
    {
      "cell_type": "code",
      "metadata": {
        "colab": {
          "base_uri": "https://localhost:8080/",
          "height": 217
        },
        "id": "tyIbXyOMurgw",
        "outputId": "0a9b5811-5271-4dcf-d351-fe24fb78f405"
      },
      "source": [
        "smiles_list = ['C(C(=O)O)N', 'N[C@@H](CC1=CC=CC=C1)C(O)=O',\n",
        "'O=C([C@H](CC1=CNC=N1)N)O','C([C@@H](C(=O)O)N)S']\n",
        "\n",
        "mol_list = []\n",
        "for smiles in smiles_list:\n",
        "  mol = Chem.MolFromSmiles(smiles)\n",
        "  mol_list.append(mol)\n",
        "\n",
        "img = Draw.MolsToGridImage(mol_list, molsPerRow=4)  \n",
        "img"
      ],
      "execution_count": null,
      "outputs": [
        {
          "output_type": "execute_result",
          "data": {
            "image/png": "[encoded data removed]",
            "text/plain": [
              "<IPython.core.display.Image object>"
            ]
          },
          "metadata": {},
          "execution_count": 9
        }
      ]
    },
    {
      "cell_type": "code",
      "metadata": {
        "colab": {
          "base_uri": "https://localhost:8080/"
        },
        "id": "PVhKesrXxpjk",
        "outputId": "e0c8b71f-ce55-462e-8d58-e34e029b77d2"
      },
      "source": [
        "pattern = Chem.MolFromSmiles('S')\n",
        "\n",
        "for mol in mol_list:\n",
        "  print(mol.HasSubstructMatch(pattern))"
      ],
      "execution_count": null,
      "outputs": [
        {
          "output_type": "stream",
          "name": "stdout",
          "text": [
            "False\n",
            "False\n",
            "False\n",
            "True\n"
          ]
        }
      ]
    },
    {
      "cell_type": "code",
      "metadata": {
        "id": "XrXqYZtVy4AF"
      },
      "source": [
        ""
      ],
      "execution_count": null,
      "outputs": []
    },
    {
      "cell_type": "code",
      "metadata": {
        "colab": {
          "base_uri": "https://localhost:8080/"
        },
        "id": "4I3DqI_HzcTo",
        "outputId": "0e38b26e-7e1e-47ea-be42-1ae82a9ac026"
      },
      "source": [
        "pattern = Chem.MolFromSmarts('[r]')\n",
        "\n",
        "for mol in mol_list:\n",
        "  print(mol.HasSubstructMatch(pattern))"
      ],
      "execution_count": null,
      "outputs": [
        {
          "output_type": "stream",
          "name": "stdout",
          "text": [
            "False\n",
            "True\n",
            "True\n",
            "False\n"
          ]
        }
      ]
    },
    {
      "cell_type": "code",
      "metadata": {
        "id": "GMkYzvglzw1V"
      },
      "source": [
        ""
      ],
      "execution_count": null,
      "outputs": []
    },
    {
      "cell_type": "code",
      "metadata": {
        "colab": {
          "base_uri": "https://localhost:8080/"
        },
        "id": "_CNgmm5Hz2hR",
        "outputId": "ebcc05ae-089b-42fa-9eda-a23abe9fba6b"
      },
      "source": [
        "pattern = Chem.MolFromSmarts('[r6]')\n",
        "\n",
        "for mol in mol_list:\n",
        "  print(mol.HasSubstructMatch(pattern))"
      ],
      "execution_count": null,
      "outputs": [
        {
          "output_type": "stream",
          "name": "stdout",
          "text": [
            "False\n",
            "True\n",
            "False\n",
            "False\n"
          ]
        }
      ]
    },
    {
      "cell_type": "code",
      "metadata": {
        "colab": {
          "base_uri": "https://localhost:8080/"
        },
        "id": "nHlICmKHzyFN",
        "outputId": "a1d481fd-b160-49ee-a319-d991fdd723a3"
      },
      "source": [
        "pattern = Chem.MolFromSmarts('[r5]')\n",
        "\n",
        "for mol in mol_list:\n",
        "  print(mol.HasSubstructMatch(pattern))"
      ],
      "execution_count": null,
      "outputs": [
        {
          "output_type": "stream",
          "name": "stdout",
          "text": [
            "False\n",
            "False\n",
            "True\n",
            "False\n"
          ]
        }
      ]
    },
    {
      "cell_type": "code",
      "metadata": {
        "colab": {
          "base_uri": "https://localhost:8080/"
        },
        "id": "1TyP_CDuzLLj",
        "outputId": "e7883eb3-6178-4f34-aebd-0ef38aaf705c"
      },
      "source": [
        "pattern = Chem.MolFromSmiles('CC(N)C')\n",
        "\n",
        "for mol in mol_list:\n",
        "  print(mol.HasSubstructMatch(pattern))"
      ],
      "execution_count": null,
      "outputs": [
        {
          "output_type": "stream",
          "name": "stdout",
          "text": [
            "False\n",
            "True\n",
            "True\n",
            "True\n"
          ]
        }
      ]
    },
    {
      "cell_type": "code",
      "metadata": {
        "colab": {
          "base_uri": "https://localhost:8080/"
        },
        "id": "DtDTYevXy7ou",
        "outputId": "b8e7c40b-6a08-4632-e72c-8d79ee638338"
      },
      "source": [
        "pattern = Chem.MolFromSmiles('C(=O)O')\n",
        "\n",
        "for mol in mol_list:\n",
        "  print(mol.HasSubstructMatch(pattern))"
      ],
      "execution_count": null,
      "outputs": [
        {
          "output_type": "stream",
          "name": "stdout",
          "text": [
            "True\n",
            "True\n",
            "True\n",
            "True\n"
          ]
        }
      ]
    },
    {
      "cell_type": "code",
      "metadata": {
        "id": "tCUQEeWW0BEs",
        "colab": {
          "base_uri": "https://localhost:8080/",
          "height": 167
        },
        "outputId": "958dac72-f1d8-4d45-f655-42a1f6238b1b"
      },
      "source": [
        "# Session 02\n",
        "\n",
        "glycine = mol_list[0]\n",
        "glycine"
      ],
      "execution_count": null,
      "outputs": [
        {
          "output_type": "execute_result",
          "data": {
            "image/png": "[encoded data removed]",
            "text/plain": [
              "<rdkit.Chem.rdchem.Mol at 0x7f20758b8c60>"
            ]
          },
          "metadata": {},
          "execution_count": 16
        }
      ]
    },
    {
      "cell_type": "code",
      "metadata": {
        "colab": {
          "base_uri": "https://localhost:8080/"
        },
        "id": "AnWaL14C26vY",
        "outputId": "5b74a3dd-11d1-48b1-bd19-5dad83fec9dc"
      },
      "source": [
        "bi = {}\n",
        "fp = AllChem.GetMorganFingerprintAsBitVect(glycine, 2, nBits=1024, bitInfo=bi)\n",
        "fp_arr = np.zeros ((1,))\n",
        "DataStructs.ConvertToNumpyArray(fp, fp_arr)\n",
        "np.nonzero(fp_arr)"
      ],
      "execution_count": null,
      "outputs": [
        {
          "output_type": "execute_result",
          "data": {
            "text/plain": [
              "(array([ 27,  80, 147, 389, 650, 713, 807, 893, 966, 981]),)"
            ]
          },
          "metadata": {},
          "execution_count": 23
        }
      ]
    },
    {
      "cell_type": "code",
      "metadata": {
        "id": "-7v_ttZ75Gh2",
        "colab": {
          "base_uri": "https://localhost:8080/",
          "height": 467
        },
        "outputId": "0e0f0e48-bd32-445d-b051-07a2fe80a29d"
      },
      "source": [
        "prints = [(glycine, x, bi) for x in fp.GetOnBits()]\n",
        "Draw.DrawMorganBits(prints, molsPerRow=4, legends=[str(x) for x in fp.GetOnBits()])"
      ],
      "execution_count": null,
      "outputs": [
        {
          "output_type": "execute_result",
          "data": {
            "image/png": "[encoded data removed]",
            "text/plain": [
              "<PIL.PngImagePlugin.PngImageFile image mode=RGB size=600x450 at 0x7F20756464D0>"
            ]
          },
          "metadata": {},
          "execution_count": 24
        }
      ]
    },
    {
      "cell_type": "code",
      "metadata": {
        "id": "Ag7Q7vjO9wMW",
        "colab": {
          "base_uri": "https://localhost:8080/",
          "height": 217
        },
        "outputId": "4efd2153-aa0d-4ed1-c298-1fc525fcdcd6"
      },
      "source": [
        "cysteine = mol_list[3]\n",
        "img = Draw.MolsToGridImage([glycine, cysteine], molsPerRow=4)\n",
        "img\n",
        "\n"
      ],
      "execution_count": null,
      "outputs": [
        {
          "output_type": "execute_result",
          "data": {
            "image/png": "[encoded data removed]",
            "text/plain": [
              "<IPython.core.display.Image object>"
            ]
          },
          "metadata": {},
          "execution_count": 26
        }
      ]
    },
    {
      "cell_type": "code",
      "metadata": {
        "id": "HF3yw8pv-dsL",
        "colab": {
          "base_uri": "https://localhost:8080/"
        },
        "outputId": "4b8dc77c-0dbc-4bd7-98d8-d8c743e30b63"
      },
      "source": [
        "fp2 = AllChem.GetMorganFingerprintAsBitVect(cysteine, 2, nBits=1024, bitInfo=bi)\n",
        "print('cys', list(fp2.GetOnBits()))\n",
        "print('gly', list(fp.GetOnBits()))\n",
        "\n",
        "common = set(fp2.GetOnBits()) & set(fp.GetOnBits())\n",
        "combined = set(fp2.GetOnBits()) | set(fp.GetOnBits())\n",
        "print(combined)\n",
        "print(common)\n",
        "print(len(common)/len(combined))\n",
        "print(DataStructs.TanimotoSimilarity(fp, fp2))\n",
        "\n"
      ],
      "execution_count": null,
      "outputs": [
        {
          "output_type": "stream",
          "name": "stdout",
          "text": [
            "cys [1, 48, 80, 147, 229, 321, 389, 403, 435, 650, 786, 807, 820, 825, 893, 902]\n",
            "gly [27, 80, 147, 389, 650, 713, 807, 893, 966, 981]\n",
            "{1, 321, 389, 902, 966, 713, 650, 80, 786, 147, 403, 981, 27, 229, 807, 48, 435, 820, 825, 893}\n",
            "{389, 807, 650, 80, 147, 893}\n",
            "0.3\n",
            "0.3\n"
          ]
        }
      ]
    },
    {
      "cell_type": "code",
      "metadata": {
        "id": "DwfLeLZoBKn3"
      },
      "source": [
        ""
      ],
      "execution_count": null,
      "outputs": []
    }
  ]
}