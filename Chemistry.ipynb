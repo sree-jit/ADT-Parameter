{
  "nbformat": 4,
  "nbformat_minor": 0,
  "metadata": {
    "colab": {
      "name": "Chemistry.ipynb",
      "provenance": [],
      "authorship_tag": "ABX9TyPl7HxrWZeRGf7WfJcT8cF2",
      "include_colab_link": true
    },
    "kernelspec": {
      "name": "python3",
      "display_name": "Python 3"
    },
    "language_info": {
      "name": "python"
    }
  },
  "cells": [
    {
      "cell_type": "markdown",
      "metadata": {
        "id": "view-in-github",
        "colab_type": "text"
      },
      "source": [
        "<a href=\"https://colab.research.google.com/github/sree-jit/ADT-Parameter/blob/main/Chemistry.ipynb\" target=\"_parent\"><img src=\"https://colab.research.google.com/assets/colab-badge.svg\" alt=\"Open In Colab\"/></a>"
      ]
    },
    {
      "cell_type": "code",
      "execution_count": 1,
      "metadata": {
        "colab": {
          "base_uri": "https://localhost:8080/"
        },
        "id": "pa4r85TvChzV",
        "outputId": "5151403e-e6ff-45a6-94b7-600a9706295e"
      },
      "outputs": [
        {
          "output_type": "stream",
          "name": "stdout",
          "text": [
            "Collecting chemlib\n",
            "  Downloading chemlib-2.2.2-py3-none-any.whl (100 kB)\n",
            "\u001b[?25l\r\u001b[K     |███▎                            | 10 kB 22.9 MB/s eta 0:00:01\r\u001b[K     |██████▌                         | 20 kB 26.8 MB/s eta 0:00:01\r\u001b[K     |█████████▉                      | 30 kB 29.8 MB/s eta 0:00:01\r\u001b[K     |█████████████                   | 40 kB 31.8 MB/s eta 0:00:01\r\u001b[K     |████████████████▍               | 51 kB 32.0 MB/s eta 0:00:01\r\u001b[K     |███████████████████▋            | 61 kB 32.7 MB/s eta 0:00:01\r\u001b[K     |██████████████████████▉         | 71 kB 33.1 MB/s eta 0:00:01\r\u001b[K     |██████████████████████████▏     | 81 kB 34.0 MB/s eta 0:00:01\r\u001b[K     |█████████████████████████████▍  | 92 kB 35.8 MB/s eta 0:00:01\r\u001b[K     |████████████████████████████████| 100 kB 8.1 MB/s \n",
            "\u001b[?25hRequirement already satisfied: numpy in /usr/local/lib/python3.7/dist-packages (from chemlib) (1.19.5)\n",
            "Requirement already satisfied: pandas in /usr/local/lib/python3.7/dist-packages (from chemlib) (1.1.5)\n",
            "Requirement already satisfied: sympy in /usr/local/lib/python3.7/dist-packages (from chemlib) (1.7.1)\n",
            "Requirement already satisfied: Pillow in /usr/local/lib/python3.7/dist-packages (from chemlib) (7.1.2)\n",
            "Requirement already satisfied: python-dateutil>=2.7.3 in /usr/local/lib/python3.7/dist-packages (from pandas->chemlib) (2.8.2)\n",
            "Requirement already satisfied: pytz>=2017.2 in /usr/local/lib/python3.7/dist-packages (from pandas->chemlib) (2018.9)\n",
            "Requirement already satisfied: six>=1.5 in /usr/local/lib/python3.7/dist-packages (from python-dateutil>=2.7.3->pandas->chemlib) (1.15.0)\n",
            "Requirement already satisfied: mpmath>=0.19 in /usr/local/lib/python3.7/dist-packages (from sympy->chemlib) (1.2.1)\n",
            "Installing collected packages: chemlib\n",
            "Successfully installed chemlib-2.2.2\n"
          ]
        }
      ],
      "source": [
        "!pip install -U chemlib"
      ]
    },
    {
      "cell_type": "code",
      "source": [
        "from chemlib import Element"
      ],
      "metadata": {
        "id": "Cx0vRphFDbB-"
      },
      "execution_count": 2,
      "outputs": []
    },
    {
      "cell_type": "code",
      "source": [
        "xenon = Element('Xe')\n",
        "xenon.properties"
      ],
      "metadata": {
        "colab": {
          "base_uri": "https://localhost:8080/"
        },
        "id": "bhOJLAAGDpEy",
        "outputId": "893b6759-7c9d-43ac-e2a2-666023ee8a3b"
      },
      "execution_count": 3,
      "outputs": [
        {
          "output_type": "execute_result",
          "data": {
            "text/plain": [
              "{'AtomicMass': 131.293,\n",
              " 'AtomicNumber': 54.0,\n",
              " 'AtomicRadius': '1.2',\n",
              " 'BoilingPoint': '165.03',\n",
              " 'Config': '[Kr] 4d10 5s2 5p6',\n",
              " 'Density': '0.00589',\n",
              " 'Discoverer': 'Ramsay and Travers',\n",
              " 'Electronegativity': nan,\n",
              " 'Electrons': 54.0,\n",
              " 'Element': 'Xenon',\n",
              " 'FirstIonization': '12.1298',\n",
              " 'Group': 18.0,\n",
              " 'Isotopes': 31.0,\n",
              " 'MassNumber': 131.0,\n",
              " 'MeltingPoint': '161.45',\n",
              " 'Metal': False,\n",
              " 'Metalloid': False,\n",
              " 'Natural': True,\n",
              " 'Neutrons': 77.0,\n",
              " 'Nonmetal': True,\n",
              " 'Period': 5.0,\n",
              " 'Phase': 'gas',\n",
              " 'Protons': 54.0,\n",
              " 'Radioactive': False,\n",
              " 'Shells': 5.0,\n",
              " 'SpecificHeat': '0.158',\n",
              " 'Symbol': 'Xe',\n",
              " 'Type': 'Noble Gas',\n",
              " 'Unnamed: 0': 53,\n",
              " 'Valence': 8.0,\n",
              " 'Year': '1898'}"
            ]
          },
          "metadata": {},
          "execution_count": 3
        }
      ]
    },
    {
      "cell_type": "code",
      "source": [
        "xenon.AtomicMass"
      ],
      "metadata": {
        "colab": {
          "base_uri": "https://localhost:8080/"
        },
        "id": "mn6IcxSND8hq",
        "outputId": "837f99a3-4716-4ae9-d2ac-7f4e5788510d"
      },
      "execution_count": 4,
      "outputs": [
        {
          "output_type": "execute_result",
          "data": {
            "text/plain": [
              "131.293"
            ]
          },
          "metadata": {},
          "execution_count": 4
        }
      ]
    },
    {
      "cell_type": "code",
      "source": [
        "xenon.FirstIonization"
      ],
      "metadata": {
        "colab": {
          "base_uri": "https://localhost:8080/",
          "height": 35
        },
        "id": "iuouosOqECJS",
        "outputId": "835ecbb3-df78-49a0-bde5-3fcc6c5f4b06"
      },
      "execution_count": 5,
      "outputs": [
        {
          "output_type": "execute_result",
          "data": {
            "application/vnd.google.colaboratory.intrinsic+json": {
              "type": "string"
            },
            "text/plain": [
              "'12.1298'"
            ]
          },
          "metadata": {},
          "execution_count": 5
        }
      ]
    },
    {
      "cell_type": "code",
      "source": [
        "import chemlib"
      ],
      "metadata": {
        "id": "bHTHr8sDEG9z"
      },
      "execution_count": 7,
      "outputs": []
    },
    {
      "cell_type": "code",
      "source": [
        "chemlib.AVOGADROS_NUMBER"
      ],
      "metadata": {
        "colab": {
          "base_uri": "https://localhost:8080/"
        },
        "id": "n0A3HbzOEb4r",
        "outputId": "12de2c4f-30d5-43eb-bb2d-bf39b606611d"
      },
      "execution_count": 8,
      "outputs": [
        {
          "output_type": "execute_result",
          "data": {
            "text/plain": [
              "6.02e+23"
            ]
          },
          "metadata": {},
          "execution_count": 8
        }
      ]
    },
    {
      "cell_type": "code",
      "source": [
        "from chemlib import Compound"
      ],
      "metadata": {
        "id": "a5x9FPw6EwDa"
      },
      "execution_count": 9,
      "outputs": []
    },
    {
      "cell_type": "code",
      "source": [
        "water = Compound(\"H2O\")\n",
        "water.formula"
      ],
      "metadata": {
        "colab": {
          "base_uri": "https://localhost:8080/",
          "height": 35
        },
        "id": "4eL412P9E1Xs",
        "outputId": "09967ce2-c0ca-44e1-90e3-3e3e53eb9e25"
      },
      "execution_count": 10,
      "outputs": [
        {
          "output_type": "execute_result",
          "data": {
            "application/vnd.google.colaboratory.intrinsic+json": {
              "type": "string"
            },
            "text/plain": [
              "'H₂O₁'"
            ]
          },
          "metadata": {},
          "execution_count": 10
        }
      ]
    },
    {
      "cell_type": "code",
      "source": [
        "water.occurences"
      ],
      "metadata": {
        "colab": {
          "base_uri": "https://localhost:8080/"
        },
        "id": "L0mIqyWlFC7r",
        "outputId": "0ed47f01-85b1-489d-b3d1-3f3d56dbfdd5"
      },
      "execution_count": 11,
      "outputs": [
        {
          "output_type": "execute_result",
          "data": {
            "text/plain": [
              "{'H': 2, 'O': 1}"
            ]
          },
          "metadata": {},
          "execution_count": 11
        }
      ]
    },
    {
      "cell_type": "code",
      "source": [
        "water.molar_mass()"
      ],
      "metadata": {
        "colab": {
          "base_uri": "https://localhost:8080/"
        },
        "id": "ZZU53BBQFJZF",
        "outputId": "996dd3b7-72a6-45ae-bcd1-968ea4fabc71"
      },
      "execution_count": 13,
      "outputs": [
        {
          "output_type": "execute_result",
          "data": {
            "text/plain": [
              "18.02"
            ]
          },
          "metadata": {},
          "execution_count": 13
        }
      ]
    },
    {
      "cell_type": "code",
      "source": [
        "water.percentage_by_mass('H')\n"
      ],
      "metadata": {
        "colab": {
          "base_uri": "https://localhost:8080/"
        },
        "id": "pltEsDcFFQFM",
        "outputId": "4a35e46f-6f47-48b0-f565-549e32b4c8f3"
      },
      "execution_count": 15,
      "outputs": [
        {
          "output_type": "execute_result",
          "data": {
            "text/plain": [
              "11.188"
            ]
          },
          "metadata": {},
          "execution_count": 15
        }
      ]
    },
    {
      "cell_type": "code",
      "source": [
        "water.percentage_by_mass(\"O\")"
      ],
      "metadata": {
        "colab": {
          "base_uri": "https://localhost:8080/"
        },
        "id": "RxF8jIuBFdnE",
        "outputId": "65d7e9e7-1b5e-49a8-cd76-2788a503d65c"
      },
      "execution_count": 16,
      "outputs": [
        {
          "output_type": "execute_result",
          "data": {
            "text/plain": [
              "88.785"
            ]
          },
          "metadata": {},
          "execution_count": 16
        }
      ]
    },
    {
      "cell_type": "code",
      "source": [
        "water.get_amounts(grams = 2) # Get the amount of moles and molecules of water given 2 grams of water."
      ],
      "metadata": {
        "colab": {
          "base_uri": "https://localhost:8080/"
        },
        "id": "PScsGpUKFiE9",
        "outputId": "b154f97b-bbdb-4c52-a406-67443a3ea1d1"
      },
      "execution_count": 17,
      "outputs": [
        {
          "output_type": "execute_result",
          "data": {
            "text/plain": [
              "{'grams': 2, 'molecules': 6.681e+22, 'moles': 0.111}"
            ]
          },
          "metadata": {},
          "execution_count": 17
        }
      ]
    },
    {
      "cell_type": "code",
      "source": [
        "#Get the amount of grams and molecules of water given 2 moles of water.\n",
        "water.get_amounts(moles = 2)"
      ],
      "metadata": {
        "colab": {
          "base_uri": "https://localhost:8080/"
        },
        "id": "gRO68sUjFwTz",
        "outputId": "2d06dcb2-7361-461c-f16d-b7eba8482005"
      },
      "execution_count": 18,
      "outputs": [
        {
          "output_type": "execute_result",
          "data": {
            "text/plain": [
              "{'grams': 36.04, 'molecules': 1.204e+24, 'moles': 2}"
            ]
          },
          "metadata": {},
          "execution_count": 18
        }
      ]
    },
    {
      "cell_type": "code",
      "source": [
        "# Get the amount of moles and grams of water given 2e+24 molecules of water.\n",
        "water.get_amounts(molecules = 2e+24)"
      ],
      "metadata": {
        "colab": {
          "base_uri": "https://localhost:8080/"
        },
        "id": "yH4dajONF8G7",
        "outputId": "54346c6c-f034-41fc-bdfc-f3870c39e124"
      },
      "execution_count": 19,
      "outputs": [
        {
          "output_type": "execute_result",
          "data": {
            "text/plain": [
              "{'grams': 59.862, 'molecules': 2e+24, 'moles': 3.322}"
            ]
          },
          "metadata": {},
          "execution_count": 19
        }
      ]
    },
    {
      "cell_type": "code",
      "source": [
        "from chemlib import Galvanic_Cell"
      ],
      "metadata": {
        "id": "nhAv4wSGGEzD"
      },
      "execution_count": 20,
      "outputs": []
    },
    {
      "cell_type": "code",
      "source": [
        "g = Galvanic_Cell(\"Pb\", \"Zn\")"
      ],
      "metadata": {
        "id": "coirxM4mGVwb"
      },
      "execution_count": 21,
      "outputs": []
    },
    {
      "cell_type": "code",
      "source": [
        "g.properties"
      ],
      "metadata": {
        "colab": {
          "base_uri": "https://localhost:8080/"
        },
        "id": "E_VTU_ekGY1D",
        "outputId": "d0b32dad-36d2-4862-d7f8-9861ba612d67"
      },
      "execution_count": 22,
      "outputs": [
        {
          "output_type": "execute_result",
          "data": {
            "text/plain": [
              "{'Anode': 'Zn',\n",
              " 'Cathode': 'Pb',\n",
              " 'Cell': 'Zn | Zn2+ || Pb2+ | Pb',\n",
              " 'Cell Potential': 0.63}"
            ]
          },
          "metadata": {},
          "execution_count": 22
        }
      ]
    },
    {
      "cell_type": "code",
      "source": [
        "g.cell_potential"
      ],
      "metadata": {
        "colab": {
          "base_uri": "https://localhost:8080/"
        },
        "id": "svpCq5JXGdSb",
        "outputId": "771a42c0-5981-4211-e064-2ee5d10122ee"
      },
      "execution_count": 23,
      "outputs": [
        {
          "output_type": "execute_result",
          "data": {
            "text/plain": [
              "0.63"
            ]
          },
          "metadata": {},
          "execution_count": 23
        }
      ]
    },
    {
      "cell_type": "code",
      "source": [
        "g.E0"
      ],
      "metadata": {
        "colab": {
          "base_uri": "https://localhost:8080/"
        },
        "id": "nfNN9LowGg7M",
        "outputId": "1754854c-8d40-479f-f649-5ff641d6888e"
      },
      "execution_count": 24,
      "outputs": [
        {
          "output_type": "execute_result",
          "data": {
            "text/plain": [
              "0.63"
            ]
          },
          "metadata": {},
          "execution_count": 24
        }
      ]
    },
    {
      "cell_type": "code",
      "source": [
        ""
      ],
      "metadata": {
        "id": "VLat4oppH9Uq"
      },
      "execution_count": null,
      "outputs": []
    }
  ]
}