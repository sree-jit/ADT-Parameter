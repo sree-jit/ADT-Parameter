{
  "nbformat": 4,
  "nbformat_minor": 0,
  "metadata": {
    "colab": {
      "name": "Reverse Complement.ipynb",
      "provenance": [],
      "authorship_tag": "ABX9TyMFsPl1x3RtIk8pDEghjQHs",
      "include_colab_link": true
    },
    "kernelspec": {
      "name": "python3",
      "display_name": "Python 3"
    },
    "language_info": {
      "name": "python"
    }
  },
  "cells": [
    {
      "cell_type": "markdown",
      "metadata": {
        "id": "view-in-github",
        "colab_type": "text"
      },
      "source": [
        "<a href=\"https://colab.research.google.com/github/sree-jit/ADT-Parameter/blob/main/Reverse_Complement.ipynb\" target=\"_parent\"><img src=\"https://colab.research.google.com/assets/colab-badge.svg\" alt=\"Open In Colab\"/></a>"
      ]
    },
    {
      "cell_type": "code",
      "metadata": {
        "id": "_c_9kbGgXaU3"
      },
      "source": [
        "# obtain the DNA sequence\n",
        "DNA=\"ATCTGATCATGCATGCC\"\n",
        "\n",
        "\n"
      ],
      "execution_count": 1,
      "outputs": []
    },
    {
      "cell_type": "code",
      "metadata": {
        "colab": {
          "base_uri": "https://localhost:8080/"
        },
        "id": "7Y-lEDfn25D6",
        "outputId": "bead1324-a6d2-4903-d314-0f9e651b091e"
      },
      "source": [
        "print(DNA)"
      ],
      "execution_count": 2,
      "outputs": [
        {
          "output_type": "stream",
          "name": "stdout",
          "text": [
            "ATCTGATCATGCATGCC\n"
          ]
        }
      ]
    },
    {
      "cell_type": "code",
      "metadata": {
        "id": "s-Yb2ZWFXeh5"
      },
      "source": [
        "#Step2 find the reverse of the DNA Sequence\n",
        "# create a function that finds the reverse of the sequence\n",
        "\n",
        "def reverse_sequence(sequence):\n",
        "    reverse=sequence[::-1]\n",
        "    return reverse\n",
        "\n",
        "# call the function to find the reverse of the sequence\n",
        "\n",
        "reverse=reverse_sequence(DNA)\n"
      ],
      "execution_count": 32,
      "outputs": []
    },
    {
      "cell_type": "code",
      "metadata": {
        "colab": {
          "base_uri": "https://localhost:8080/"
        },
        "id": "9tx8bEy84rso",
        "outputId": "4b7c4634-b501-491b-b881-a8c19827fad5"
      },
      "source": [
        "print(reverse)"
      ],
      "execution_count": 33,
      "outputs": [
        {
          "output_type": "stream",
          "name": "stdout",
          "text": [
            "CCGTACGTACTAGTCTA\n"
          ]
        }
      ]
    },
    {
      "cell_type": "code",
      "metadata": {
        "colab": {
          "base_uri": "https://localhost:8080/"
        },
        "id": "R3WDWK4g44vx",
        "outputId": "179ab5e1-975b-48e8-8ca1-be2934c2214d"
      },
      "source": [
        "print('forward: ',DNA)\n",
        "print('reverse: ',reverse)"
      ],
      "execution_count": 34,
      "outputs": [
        {
          "output_type": "stream",
          "name": "stdout",
          "text": [
            "forward:  ATCTGATCATGCATGCC\n",
            "reverse:  CCGTACGTACTAGTCTA\n"
          ]
        }
      ]
    },
    {
      "cell_type": "code",
      "metadata": {
        "id": "idlQl-z15ZN4"
      },
      "source": [
        "# create a function to find the complement of a sequence\n",
        "\n",
        "def complement_sequence(sequence):\n",
        "    base_complements={'A':'T','T':'A','C':'G','G':'C'}\n",
        "    complement_of_sequence=[base_complements[base] for base in sequence]\n",
        "    complement_of_sequence=''.join(complement_of_sequence)\n",
        "    return complement_of_sequence\n",
        "\n",
        "# call a function to find the complement of the reverse sequence\n",
        "reverse_complement=complement_sequence(reverse)"
      ],
      "execution_count": 35,
      "outputs": []
    },
    {
      "cell_type": "code",
      "metadata": {
        "colab": {
          "base_uri": "https://localhost:8080/"
        },
        "id": "_c1ffSXf_EN1",
        "outputId": "79c834f9-d3f8-4bc2-a069-cc991b25b8f3"
      },
      "source": [
        "print(reverse_complement)"
      ],
      "execution_count": 36,
      "outputs": [
        {
          "output_type": "stream",
          "name": "stdout",
          "text": [
            "GGCATGCATGATCAGAT\n"
          ]
        }
      ]
    },
    {
      "cell_type": "code",
      "metadata": {
        "colab": {
          "base_uri": "https://localhost:8080/"
        },
        "id": "Mwq8Wd50_eyd",
        "outputId": "9ecd80ff-4079-468b-ac43-eb3969f0ccf7"
      },
      "source": [
        "print('forward:           ' ,DNA)\n",
        "print('reverse:           ' ,reverse)\n",
        "print('reverse complement:' ,reverse_complement)"
      ],
      "execution_count": 16,
      "outputs": [
        {
          "output_type": "stream",
          "name": "stdout",
          "text": [
            "forward:            ATCTGATCATGCATGCC\n",
            "reverse:            CCGTACGTACTAGTCTA\n",
            "reverse complement: GGCATGCATGATCAGAT\n"
          ]
        }
      ]
    },
    {
      "cell_type": "code",
      "metadata": {
        "id": "cJBze-NAAv7l"
      },
      "source": [
        "DNASEQUENCES=['ATCGA','TTAGC','ACCTAG']"
      ],
      "execution_count": 37,
      "outputs": []
    },
    {
      "cell_type": "code",
      "metadata": {
        "colab": {
          "base_uri": "https://localhost:8080/"
        },
        "id": "-kLEsEKlND3j",
        "outputId": "c6f11536-cd37-418d-9469-b96bab0b1ba9"
      },
      "source": [
        "for sequence in DNASEQUENCES:\n",
        "    reverse=reverse_sequence(sequence)\n",
        "    reverse_complement=complement_sequence(reverse)\n",
        "    print('sequence:           ',sequence)\n",
        "    print('reverse:            ',reverse)\n",
        "    print('reverse_complement: ',reverse_complement)"
      ],
      "execution_count": 39,
      "outputs": [
        {
          "output_type": "stream",
          "name": "stdout",
          "text": [
            "sequence:            ATCGA\n",
            "reverse:             AGCTA\n",
            "reverse_complement:  TCGAT\n",
            "sequence:            TTAGC\n",
            "reverse:             CGATT\n",
            "reverse_complement:  GCTAA\n",
            "sequence:            ACCTAG\n",
            "reverse:             GATCCA\n",
            "reverse_complement:  CTAGGT\n"
          ]
        }
      ]
    },
    {
      "cell_type": "code",
      "metadata": {
        "colab": {
          "base_uri": "https://localhost:8080/"
        },
        "id": "ptAB9PliQG5C",
        "outputId": "94b7f489-4462-4b3a-a621-dbc504e8d2bf"
      },
      "source": [
        "# approach 02\n",
        "def reverse_complement(sequence):\n",
        "    reverse=reverse_sequence(sequence)\n",
        "    reverse_complement=complement_sequence(reverse)\n",
        "    return reverse_complement\n",
        "\n",
        "for sequence in DNASEQUENCES:\n",
        "    r_complement=reverse_complement(sequence)\n",
        "    print('sequence:           ',sequence)\n",
        "    print('reverse complement: ',r_complement)\n"
      ],
      "execution_count": 40,
      "outputs": [
        {
          "output_type": "stream",
          "name": "stdout",
          "text": [
            "sequence:            ATCGA\n",
            "reverse complement:  TCGAT\n",
            "sequence:            TTAGC\n",
            "reverse complement:  GCTAA\n",
            "sequence:            ACCTAG\n",
            "reverse complement:  CTAGGT\n"
          ]
        }
      ]
    }
  ]
}