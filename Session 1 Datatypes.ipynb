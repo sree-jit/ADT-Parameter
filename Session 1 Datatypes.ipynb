{
  "nbformat": 4,
  "nbformat_minor": 5,
  "metadata": {
    "kernelspec": {
      "display_name": "Python 3",
      "language": "python",
      "name": "python3"
    },
    "language_info": {
      "codemirror_mode": {
        "name": "ipython",
        "version": 3
      },
      "file_extension": ".py",
      "mimetype": "text/x-python",
      "name": "python",
      "nbconvert_exporter": "python",
      "pygments_lexer": "ipython3",
      "version": "3.6.9"
    },
    "colab": {
      "name": "Session 1 Datatypes.ipynb",
      "provenance": []
    }
  },
  "cells": [
    {
      "cell_type": "markdown",
      "metadata": {
        "id": "focused-occurrence"
      },
      "source": [
        "<p style='text-align: center;'> Data types </p>"
      ],
      "id": "focused-occurrence"
    },
    {
      "cell_type": "code",
      "metadata": {
        "id": "polish-platinum",
        "outputId": "1687ab16-5673-40eb-8509-fe04c74c9199",
        "colab": {
          "base_uri": "https://localhost:8080/",
          "height": 17
        }
      },
      "source": [
        "%%html\n",
        "<style>\n",
        "    table {\n",
        "        display: inline-block\n",
        "   }\n",
        "</style>"
      ],
      "id": "polish-platinum",
      "execution_count": 1,
      "outputs": [
        {
          "output_type": "display_data",
          "data": {
            "text/html": [
              "<style>\n",
              "    table {\n",
              "        display: inline-block\n",
              "   }\n",
              "</style>"
            ],
            "text/plain": [
              "<IPython.core.display.HTML object>"
            ]
          },
          "metadata": {}
        }
      ]
    },
    {
      "cell_type": "markdown",
      "metadata": {
        "id": "amber-fence"
      },
      "source": [
        "**DATA TYPES**"
      ],
      "id": "amber-fence"
    },
    {
      "cell_type": "markdown",
      "metadata": {
        "id": "sublime-solid"
      },
      "source": [
        "| Type|Name|Example \n",
        "| :--- |:--- |:--- \n",
        "| Integer|int|1, 2, 5 , 10, 21235 \n",
        "| Float|float|0.5, 1.2, 8.0 \n",
        "| Boolean|bool|True, False \n",
        "| String|str|\"DNA\", \"ATCGA\" \n",
        "| List|list|[1,2,3], [\"A\",\"T\",\"C\",\"G\"] \n",
        "| Dictionary|dict|{1:\"A\",2:\"B\"} \n",
        "\n",
        "\n"
      ],
      "id": "sublime-solid"
    },
    {
      "cell_type": "markdown",
      "metadata": {
        "id": "developmental-light"
      },
      "source": [
        "**INTEGERS**"
      ],
      "id": "developmental-light"
    },
    {
      "cell_type": "code",
      "metadata": {
        "id": "loved-waterproof",
        "outputId": "9d9801ab-0f37-41bf-82fa-86913be1ee1d",
        "colab": {
          "base_uri": "https://localhost:8080/"
        }
      },
      "source": [
        "type(3)"
      ],
      "id": "loved-waterproof",
      "execution_count": 2,
      "outputs": [
        {
          "output_type": "execute_result",
          "data": {
            "text/plain": [
              "int"
            ]
          },
          "metadata": {},
          "execution_count": 2
        }
      ]
    },
    {
      "cell_type": "code",
      "metadata": {
        "id": "persistent-alabama",
        "outputId": "7bc87d2b-cd80-429b-f6fa-d78a5bcfef64",
        "colab": {
          "base_uri": "https://localhost:8080/"
        }
      },
      "source": [
        "mynumber=5\n",
        "print(mynumber)"
      ],
      "id": "persistent-alabama",
      "execution_count": 3,
      "outputs": [
        {
          "output_type": "stream",
          "name": "stdout",
          "text": [
            "5\n"
          ]
        }
      ]
    },
    {
      "cell_type": "code",
      "metadata": {
        "id": "straight-antique",
        "outputId": "a96b011c-b59b-4259-93c7-ccf8eeb43e23",
        "colab": {
          "base_uri": "https://localhost:8080/"
        }
      },
      "source": [
        "number1=10\n",
        "number2=45\n",
        "\n",
        "number1+number2"
      ],
      "id": "straight-antique",
      "execution_count": 4,
      "outputs": [
        {
          "output_type": "execute_result",
          "data": {
            "text/plain": [
              "55"
            ]
          },
          "metadata": {},
          "execution_count": 4
        }
      ]
    },
    {
      "cell_type": "code",
      "metadata": {
        "id": "arabic-correlation",
        "outputId": "0c7703f7-05a1-48ce-dfe7-86e9cfa1dd76"
      },
      "source": [
        "number1*number2"
      ],
      "id": "arabic-correlation",
      "execution_count": null,
      "outputs": [
        {
          "data": {
            "text/plain": [
              "450"
            ]
          },
          "execution_count": 24,
          "metadata": {},
          "output_type": "execute_result"
        }
      ]
    },
    {
      "cell_type": "code",
      "metadata": {
        "id": "removable-blair",
        "outputId": "7f9db0a6-4a48-4244-c363-af0315ed4731"
      },
      "source": [
        "number2/number1"
      ],
      "id": "removable-blair",
      "execution_count": null,
      "outputs": [
        {
          "data": {
            "text/plain": [
              "4.5"
            ]
          },
          "execution_count": 25,
          "metadata": {},
          "output_type": "execute_result"
        }
      ]
    },
    {
      "cell_type": "code",
      "metadata": {
        "id": "minimal-metallic",
        "outputId": "be010bdb-3030-44c6-9bb5-2ad59490b807"
      },
      "source": [
        "number2-number1"
      ],
      "id": "minimal-metallic",
      "execution_count": null,
      "outputs": [
        {
          "data": {
            "text/plain": [
              "35"
            ]
          },
          "execution_count": 26,
          "metadata": {},
          "output_type": "execute_result"
        }
      ]
    },
    {
      "cell_type": "code",
      "metadata": {
        "id": "hungry-handling"
      },
      "source": [
        "total=6+5"
      ],
      "id": "hungry-handling",
      "execution_count": null,
      "outputs": []
    },
    {
      "cell_type": "code",
      "metadata": {
        "id": "vocal-presence",
        "outputId": "8a7b6370-f39d-459b-ddc0-962aadb618b3"
      },
      "source": [
        "print(total)"
      ],
      "id": "vocal-presence",
      "execution_count": null,
      "outputs": [
        {
          "name": "stdout",
          "output_type": "stream",
          "text": [
            "11\n"
          ]
        }
      ]
    },
    {
      "cell_type": "markdown",
      "metadata": {
        "id": "dedicated-telescope"
      },
      "source": [
        "**Float**"
      ],
      "id": "dedicated-telescope"
    },
    {
      "cell_type": "code",
      "metadata": {
        "id": "found-earth",
        "outputId": "c4627d66-da72-4364-d95c-ec679519c05e"
      },
      "source": [
        "myfloat1=0.9\n",
        "type(myfloat1)"
      ],
      "id": "found-earth",
      "execution_count": null,
      "outputs": [
        {
          "data": {
            "text/plain": [
              "float"
            ]
          },
          "execution_count": 29,
          "metadata": {},
          "output_type": "execute_result"
        }
      ]
    },
    {
      "cell_type": "code",
      "metadata": {
        "id": "cosmetic-bruce",
        "outputId": "819abbe4-8e30-4ef9-f7e7-a63ce81cd9f8"
      },
      "source": [
        "9.1+2.8"
      ],
      "id": "cosmetic-bruce",
      "execution_count": null,
      "outputs": [
        {
          "data": {
            "text/plain": [
              "11.899999999999999"
            ]
          },
          "execution_count": 30,
          "metadata": {},
          "output_type": "execute_result"
        }
      ]
    },
    {
      "cell_type": "code",
      "metadata": {
        "id": "important-polymer",
        "outputId": "509e95c7-f40a-41d9-ee9f-bfd5b12ee4e0"
      },
      "source": [
        "int(2*2.5)"
      ],
      "id": "important-polymer",
      "execution_count": null,
      "outputs": [
        {
          "data": {
            "text/plain": [
              "5"
            ]
          },
          "execution_count": 32,
          "metadata": {},
          "output_type": "execute_result"
        }
      ]
    },
    {
      "cell_type": "code",
      "metadata": {
        "id": "endangered-welcome"
      },
      "source": [
        "myinteger=10\n",
        "myfloat=2.87"
      ],
      "id": "endangered-welcome",
      "execution_count": null,
      "outputs": []
    },
    {
      "cell_type": "code",
      "metadata": {
        "id": "positive-algorithm",
        "outputId": "9d68e89c-5104-4008-ecd9-8b52be6833d6"
      },
      "source": [
        "float(myinteger)"
      ],
      "id": "positive-algorithm",
      "execution_count": null,
      "outputs": [
        {
          "data": {
            "text/plain": [
              "10.0"
            ]
          },
          "execution_count": 34,
          "metadata": {},
          "output_type": "execute_result"
        }
      ]
    },
    {
      "cell_type": "code",
      "metadata": {
        "id": "covered-insertion",
        "outputId": "55208e42-a9d8-4173-b783-eb21126146a7"
      },
      "source": [
        "int(myfloat)"
      ],
      "id": "covered-insertion",
      "execution_count": null,
      "outputs": [
        {
          "data": {
            "text/plain": [
              "2"
            ]
          },
          "execution_count": 35,
          "metadata": {},
          "output_type": "execute_result"
        }
      ]
    },
    {
      "cell_type": "code",
      "metadata": {
        "id": "flying-performance"
      },
      "source": [
        "\"2\" 2"
      ],
      "id": "flying-performance",
      "execution_count": null,
      "outputs": []
    },
    {
      "cell_type": "code",
      "metadata": {
        "id": "virtual-litigation",
        "outputId": "9a4aafae-6f2e-4560-cea6-2106e3092fa0"
      },
      "source": [
        "type(\"2\")"
      ],
      "id": "virtual-litigation",
      "execution_count": null,
      "outputs": [
        {
          "data": {
            "text/plain": [
              "str"
            ]
          },
          "execution_count": 36,
          "metadata": {},
          "output_type": "execute_result"
        }
      ]
    },
    {
      "cell_type": "code",
      "metadata": {
        "id": "biblical-accent",
        "outputId": "44515141-9879-4bab-bccc-4d9226736581"
      },
      "source": [
        "type(2)"
      ],
      "id": "biblical-accent",
      "execution_count": null,
      "outputs": [
        {
          "data": {
            "text/plain": [
              "int"
            ]
          },
          "execution_count": 37,
          "metadata": {},
          "output_type": "execute_result"
        }
      ]
    },
    {
      "cell_type": "code",
      "metadata": {
        "id": "worldwide-architecture",
        "outputId": "349c1709-d658-408d-d196-3e75c58d3ee5"
      },
      "source": [
        "int(\"2\")"
      ],
      "id": "worldwide-architecture",
      "execution_count": null,
      "outputs": [
        {
          "data": {
            "text/plain": [
              "2"
            ]
          },
          "execution_count": 38,
          "metadata": {},
          "output_type": "execute_result"
        }
      ]
    },
    {
      "cell_type": "code",
      "metadata": {
        "id": "alone-calendar",
        "outputId": "9993d51e-1a45-4851-96d4-fc7ed657b675"
      },
      "source": [
        "float(\"0.5\")"
      ],
      "id": "alone-calendar",
      "execution_count": null,
      "outputs": [
        {
          "data": {
            "text/plain": [
              "0.5"
            ]
          },
          "execution_count": 39,
          "metadata": {},
          "output_type": "execute_result"
        }
      ]
    },
    {
      "cell_type": "markdown",
      "metadata": {
        "id": "timely-ecuador"
      },
      "source": [
        "**Boolean values**"
      ],
      "id": "timely-ecuador"
    },
    {
      "cell_type": "code",
      "metadata": {
        "id": "spectacular-anaheim",
        "outputId": "84d32589-bb09-4c83-94c4-4487588167d7"
      },
      "source": [
        "type(True)\n"
      ],
      "id": "spectacular-anaheim",
      "execution_count": null,
      "outputs": [
        {
          "data": {
            "text/plain": [
              "bool"
            ]
          },
          "execution_count": 40,
          "metadata": {},
          "output_type": "execute_result"
        }
      ]
    },
    {
      "cell_type": "code",
      "metadata": {
        "id": "welsh-quantity",
        "outputId": "aa109dcf-3a8c-425d-fc7e-a5019d3a296a"
      },
      "source": [
        "type(False)"
      ],
      "id": "welsh-quantity",
      "execution_count": null,
      "outputs": [
        {
          "data": {
            "text/plain": [
              "bool"
            ]
          },
          "execution_count": 41,
          "metadata": {},
          "output_type": "execute_result"
        }
      ]
    },
    {
      "cell_type": "code",
      "metadata": {
        "id": "overall-worship",
        "outputId": "bb6ca379-b39e-4ce2-862d-29c842d93f11"
      },
      "source": [
        "bool(0)"
      ],
      "id": "overall-worship",
      "execution_count": null,
      "outputs": [
        {
          "data": {
            "text/plain": [
              "False"
            ]
          },
          "execution_count": 42,
          "metadata": {},
          "output_type": "execute_result"
        }
      ]
    },
    {
      "cell_type": "code",
      "metadata": {
        "scrolled": false,
        "id": "conditional-punch",
        "outputId": "80979dc5-b732-4d44-c602-cdfc4ec0c7d0"
      },
      "source": [
        "bool(1)"
      ],
      "id": "conditional-punch",
      "execution_count": null,
      "outputs": [
        {
          "data": {
            "text/plain": [
              "True"
            ]
          },
          "execution_count": 43,
          "metadata": {},
          "output_type": "execute_result"
        }
      ]
    },
    {
      "cell_type": "markdown",
      "metadata": {
        "id": "blocked-rover"
      },
      "source": [
        "**Mathematical Operations**"
      ],
      "id": "blocked-rover"
    },
    {
      "cell_type": "markdown",
      "metadata": {
        "id": "intimate-geometry"
      },
      "source": [
        "| Operation|Key| \n",
        "| :--- |:--- |\n",
        "| Addition|+|\n",
        "| Subtraction|-|\n",
        "| Multiplication|*|\n",
        "| Division|/|\n"
      ],
      "id": "intimate-geometry"
    },
    {
      "cell_type": "code",
      "metadata": {
        "id": "perceived-scout"
      },
      "source": [
        ""
      ],
      "id": "perceived-scout",
      "execution_count": null,
      "outputs": []
    },
    {
      "cell_type": "code",
      "metadata": {
        "id": "permanent-forge"
      },
      "source": [
        ""
      ],
      "id": "permanent-forge",
      "execution_count": null,
      "outputs": []
    },
    {
      "cell_type": "markdown",
      "metadata": {
        "id": "changed-medicaid"
      },
      "source": [
        "**Logical Operations**"
      ],
      "id": "changed-medicaid"
    },
    {
      "cell_type": "markdown",
      "metadata": {
        "id": "mexican-counter"
      },
      "source": [
        "\n",
        "| Logical operator|Meaning| \n",
        "| :--- |:--- |\n",
        "| <|Less than|\n",
        "| >|Greater than|\n",
        "| <=|Less than or equal to|\n",
        "| >=|Greater than or equal to|\n",
        "| ==|Equal to|\n",
        "| !=|Not equal to|\n"
      ],
      "id": "mexican-counter"
    },
    {
      "cell_type": "code",
      "metadata": {
        "id": "flying-hostel"
      },
      "source": [
        "apples=10\n",
        "Oranges=5\n",
        "grapes=5"
      ],
      "id": "flying-hostel",
      "execution_count": null,
      "outputs": []
    },
    {
      "cell_type": "code",
      "metadata": {
        "id": "selective-default",
        "outputId": "fc155d48-ee3e-4e69-8a38-fe5c14035cb4"
      },
      "source": [
        "#are the number of apples greater than 5?\n",
        "apples>5"
      ],
      "id": "selective-default",
      "execution_count": null,
      "outputs": [
        {
          "data": {
            "text/plain": [
              "True"
            ]
          },
          "execution_count": 45,
          "metadata": {},
          "output_type": "execute_result"
        }
      ]
    },
    {
      "cell_type": "code",
      "metadata": {
        "id": "advance-national",
        "outputId": "5ff8868c-e347-4642-c863-7f3890b38da9"
      },
      "source": [
        "#is the number of grapes equal to the number of oranges?\n",
        "grapes==Oranges"
      ],
      "id": "advance-national",
      "execution_count": null,
      "outputs": [
        {
          "data": {
            "text/plain": [
              "True"
            ]
          },
          "execution_count": 46,
          "metadata": {},
          "output_type": "execute_result"
        }
      ]
    },
    {
      "cell_type": "code",
      "metadata": {
        "id": "dedicated-wednesday",
        "outputId": "3503d0ed-1100-468d-eb68-c0c246267779"
      },
      "source": [
        "\n",
        "#is the product of 2 and 6 greater or equal to 9?\n",
        "(2*6)>=9"
      ],
      "id": "dedicated-wednesday",
      "execution_count": null,
      "outputs": [
        {
          "data": {
            "text/plain": [
              "True"
            ]
          },
          "execution_count": 47,
          "metadata": {},
          "output_type": "execute_result"
        }
      ]
    },
    {
      "cell_type": "code",
      "metadata": {
        "id": "removed-clearance",
        "outputId": "0e04c5d5-c3cd-4f1a-a85d-f72a38325a65"
      },
      "source": [
        "#is the number of apples equal to number of grapes\n",
        "apples==grapes"
      ],
      "id": "removed-clearance",
      "execution_count": null,
      "outputs": [
        {
          "data": {
            "text/plain": [
              "False"
            ]
          },
          "execution_count": 48,
          "metadata": {},
          "output_type": "execute_result"
        }
      ]
    }
  ]
}