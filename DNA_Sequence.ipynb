{
  "nbformat": 4,
  "nbformat_minor": 0,
  "metadata": {
    "colab": {
      "name": "DNA Sequence.ipynb",
      "provenance": [],
      "collapsed_sections": [],
      "authorship_tag": "ABX9TyPbLdZIhAs869R3yma7lHFc",
      "include_colab_link": true
    },
    "kernelspec": {
      "name": "python3",
      "display_name": "Python 3"
    },
    "language_info": {
      "name": "python"
    }
  },
  "cells": [
    {
      "cell_type": "markdown",
      "metadata": {
        "id": "view-in-github",
        "colab_type": "text"
      },
      "source": [
        "<a href=\"https://colab.research.google.com/github/sree-jit/ADT-Parameter/blob/main/DNA_Sequence.ipynb\" target=\"_parent\"><img src=\"https://colab.research.google.com/assets/colab-badge.svg\" alt=\"Open In Colab\"/></a>"
      ]
    },
    {
      "cell_type": "code",
      "metadata": {
        "id": "8BVksB0oTG7k"
      },
      "source": [
        "# define the length of the sequence\n",
        "length= 10\n"
      ],
      "execution_count": 1,
      "outputs": []
    },
    {
      "cell_type": "code",
      "metadata": {
        "id": "IhYyYChPUyFC"
      },
      "source": [
        "bases=['A','G','T','C']"
      ],
      "execution_count": 2,
      "outputs": []
    },
    {
      "cell_type": "code",
      "metadata": {
        "colab": {
          "base_uri": "https://localhost:8080/"
        },
        "id": "Sk4oJNYmVAQP",
        "outputId": "87206a7e-9cff-4a9b-a02d-0962ac182719"
      },
      "source": [
        "print(length)"
      ],
      "execution_count": 3,
      "outputs": [
        {
          "output_type": "stream",
          "name": "stdout",
          "text": [
            "10\n"
          ]
        }
      ]
    },
    {
      "cell_type": "code",
      "metadata": {
        "colab": {
          "base_uri": "https://localhost:8080/"
        },
        "id": "HHSnsfvMVDp2",
        "outputId": "0241ea12-9917-4db2-fdc7-488e04ddcd90"
      },
      "source": [
        "print(bases)"
      ],
      "execution_count": 4,
      "outputs": [
        {
          "output_type": "stream",
          "name": "stdout",
          "text": [
            "['A', 'G', 'T', 'C']\n"
          ]
        }
      ]
    },
    {
      "cell_type": "code",
      "metadata": {
        "id": "1dNE4fZWVRyU"
      },
      "source": [
        "# generate a sequence\n",
        "# import a random module\n",
        "\n",
        "from random import choice\n"
      ],
      "execution_count": 5,
      "outputs": []
    },
    {
      "cell_type": "code",
      "metadata": {
        "id": "XGDiTl_9VhyW"
      },
      "source": [
        "# approach 1 using for loop\n",
        "\n",
        "sequence=''\n",
        "\n",
        "for i in range(length):\n",
        "    base=choice(bases)\n",
        "    sequence+=base  "
      ],
      "execution_count": 6,
      "outputs": []
    },
    {
      "cell_type": "code",
      "metadata": {
        "colab": {
          "base_uri": "https://localhost:8080/"
        },
        "id": "6pEW7QcpWdVo",
        "outputId": "5406b4f2-3850-4d63-8b8c-703a8a29fd0f"
      },
      "source": [
        "print(sequence)"
      ],
      "execution_count": 7,
      "outputs": [
        {
          "output_type": "stream",
          "name": "stdout",
          "text": [
            "CCGGCGGGAT\n"
          ]
        }
      ]
    },
    {
      "cell_type": "code",
      "metadata": {
        "id": "5eIUCl6jW5-W"
      },
      "source": [
        "sequence=[choice (bases) for i in range(length)]"
      ],
      "execution_count": 10,
      "outputs": []
    },
    {
      "cell_type": "code",
      "metadata": {
        "colab": {
          "base_uri": "https://localhost:8080/"
        },
        "id": "bYh0XZyxXeaS",
        "outputId": "2e9061fd-c182-4f56-93dc-eeae0844505f"
      },
      "source": [
        "print(sequence)"
      ],
      "execution_count": 11,
      "outputs": [
        {
          "output_type": "stream",
          "name": "stdout",
          "text": [
            "['A', 'G', 'T', 'T', 'T', 'A', 'T', 'A', 'T', 'G']\n"
          ]
        }
      ]
    },
    {
      "cell_type": "code",
      "metadata": {
        "id": "o6Z2EtBWZel3"
      },
      "source": [
        "# convert the list to a string\n",
        "\n",
        "sequence=''.join(sequence)\n"
      ],
      "execution_count": 12,
      "outputs": []
    },
    {
      "cell_type": "code",
      "metadata": {
        "colab": {
          "base_uri": "https://localhost:8080/"
        },
        "id": "z2UVGTeJZ0sX",
        "outputId": "9c9d6af0-a653-480b-b799-3839831ee2f1"
      },
      "source": [
        "print(sequence)"
      ],
      "execution_count": 13,
      "outputs": [
        {
          "output_type": "stream",
          "name": "stdout",
          "text": [
            "AGTTTATATG\n"
          ]
        }
      ]
    },
    {
      "cell_type": "code",
      "metadata": {
        "id": "39SDnLRvaCHB"
      },
      "source": [
        "# while loop approach\n",
        "\n",
        "sequence=''\n",
        "\n",
        "while len(sequence)!=10:\n",
        "    base=choice(bases)\n",
        "    sequence+=base"
      ],
      "execution_count": 15,
      "outputs": []
    },
    {
      "cell_type": "code",
      "metadata": {
        "colab": {
          "base_uri": "https://localhost:8080/"
        },
        "id": "PujoREwfa_tP",
        "outputId": "3a89956a-39e1-48be-80b2-8053138035b1"
      },
      "source": [
        "print(sequence)"
      ],
      "execution_count": 16,
      "outputs": [
        {
          "output_type": "stream",
          "name": "stdout",
          "text": [
            "CCGATCCAGC\n"
          ]
        }
      ]
    },
    {
      "cell_type": "code",
      "metadata": {
        "id": "z0BVGdV6bDsd"
      },
      "source": [
        "from random import choice"
      ],
      "execution_count": 17,
      "outputs": []
    },
    {
      "cell_type": "code",
      "metadata": {
        "id": "nBBfgc7RbVHe"
      },
      "source": [
        "def generate_sequence(length=10):\n",
        "    bases=['A','G','T','C']\n",
        "    sequence=[choice(bases) for i in range (length)]\n",
        "    sequence=''.join(sequence)\n",
        "    return sequence\n",
        "    \n"
      ],
      "execution_count": 22,
      "outputs": []
    },
    {
      "cell_type": "code",
      "metadata": {
        "id": "npLFyR43dTWk"
      },
      "source": [
        "# generate sequence of the same length\n",
        "\n",
        "number_of_sequences=5\n",
        "sequences=[generate_sequence(5) for i in range(number_of_sequences)]\n"
      ],
      "execution_count": 25,
      "outputs": []
    },
    {
      "cell_type": "code",
      "metadata": {
        "colab": {
          "base_uri": "https://localhost:8080/"
        },
        "id": "-XW4MpOJeCk_",
        "outputId": "d344fac8-bd38-4a6a-b0df-5c2295a2784e"
      },
      "source": [
        "sequences"
      ],
      "execution_count": 26,
      "outputs": [
        {
          "output_type": "execute_result",
          "data": {
            "text/plain": [
              "['CTACA', 'GGTAC', 'AGTGG', 'CAATA', 'CCTGT']"
            ]
          },
          "metadata": {},
          "execution_count": 26
        }
      ]
    },
    {
      "cell_type": "code",
      "metadata": {
        "id": "vbt54AbGevLD"
      },
      "source": [
        "# generate sequence of different length\n",
        "lengths=[10,5,6,5]\n",
        "sequences=[generate_sequence(length) for length in lengths]\n"
      ],
      "execution_count": 27,
      "outputs": []
    },
    {
      "cell_type": "code",
      "metadata": {
        "colab": {
          "base_uri": "https://localhost:8080/"
        },
        "id": "-MRlKIeCfpmq",
        "outputId": "2c959e1a-a94e-4f01-f821-a3bdd79893b0"
      },
      "source": [
        "print(sequences)"
      ],
      "execution_count": 28,
      "outputs": [
        {
          "output_type": "stream",
          "name": "stdout",
          "text": [
            "['GAAATTTGGA', 'ATCAA', 'GTAAAA', 'GGAAG']\n"
          ]
        }
      ]
    },
    {
      "cell_type": "code",
      "metadata": {
        "colab": {
          "base_uri": "https://localhost:8080/"
        },
        "id": "K5OmQZswfwAH",
        "outputId": "f184b858-ed11-43ef-a8ce-459e60a4e3db"
      },
      "source": [
        "len(sequences[0])"
      ],
      "execution_count": 29,
      "outputs": [
        {
          "output_type": "execute_result",
          "data": {
            "text/plain": [
              "10"
            ]
          },
          "metadata": {},
          "execution_count": 29
        }
      ]
    },
    {
      "cell_type": "code",
      "metadata": {
        "id": "SOHg7YzIgGxf"
      },
      "source": [
        "from random import choice\n",
        "from random import randint"
      ],
      "execution_count": 30,
      "outputs": []
    },
    {
      "cell_type": "code",
      "metadata": {
        "id": "3yTkn0-FgwCn"
      },
      "source": [
        "number_of_sequences=5\n",
        "lengths=[randint(5,10) for i in range(number_of_sequences)]"
      ],
      "execution_count": 31,
      "outputs": []
    },
    {
      "cell_type": "code",
      "metadata": {
        "colab": {
          "base_uri": "https://localhost:8080/"
        },
        "id": "9Jcbwur4hWMM",
        "outputId": "ce11d0af-d35b-47ba-9457-d4d5a1147acd"
      },
      "source": [
        "lengths"
      ],
      "execution_count": 32,
      "outputs": [
        {
          "output_type": "execute_result",
          "data": {
            "text/plain": [
              "[6, 8, 7, 9, 5]"
            ]
          },
          "metadata": {},
          "execution_count": 32
        }
      ]
    },
    {
      "cell_type": "code",
      "metadata": {
        "id": "F1rCYxHrh0t6"
      },
      "source": [
        "sequences=[generate_sequence(length) for length in lengths]"
      ],
      "execution_count": 33,
      "outputs": []
    },
    {
      "cell_type": "code",
      "metadata": {
        "colab": {
          "base_uri": "https://localhost:8080/"
        },
        "id": "bulruIfUiFEy",
        "outputId": "5d57d134-b603-4c97-e1fe-a36b5806ccb4"
      },
      "source": [
        "sequences"
      ],
      "execution_count": 34,
      "outputs": [
        {
          "output_type": "execute_result",
          "data": {
            "text/plain": [
              "['CCGTCG', 'AAGAGAGC', 'CTCTTGA', 'TATCGTAAA', 'CAGAG']"
            ]
          },
          "metadata": {},
          "execution_count": 34
        }
      ]
    }
  ]
}